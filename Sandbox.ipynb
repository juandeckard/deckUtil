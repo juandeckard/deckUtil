{
 "cells": [
  {
   "cell_type": "code",
   "execution_count": 1,
   "metadata": {},
   "outputs": [],
   "source": [
    "# Imports\n",
    "import pandas as pd\n",
    "from pandas import DataFrame"
   ]
  },
  {
   "cell_type": "markdown",
   "metadata": {},
   "source": [
    "## Input"
   ]
  },
  {
   "cell_type": "markdown",
   "metadata": {},
   "source": [
    "### Read Excel"
   ]
  },
  {
   "cell_type": "code",
   "execution_count": 2,
   "metadata": {},
   "outputs": [
    {
     "name": "stdout",
     "output_type": "stream",
     "text": [
      "         date  index        apn         structure          rental\n",
      "0  03/17/2020    135  5171031.0  unit (1 of many)  self contained\n",
      "1  03/17/2020     54  5153053.0    main structure  self contained\n",
      "2  03/17/2020    161  5162059.0    main structure  self contained\n",
      "3  03/17/2020     73  5153026.0  unit (1 of many)  self contained\n",
      "4  03/17/2020    176  5066035.0    main structure  self contained\n",
      "\n",
      "         date  index\n",
      "0  03/17/2020    135\n",
      "1  03/17/2020     54\n",
      "2  03/17/2020    161\n",
      "3  03/17/2020     73\n",
      "4  03/17/2020    176\n",
      "\n",
      "Lets you read any excel files and returns a dataframe.\n",
      "       Parameters:\n",
      "            filename    : Name of the file, no termination.\n",
      "            sheet_name  : Name of the sheet to read.\n",
      "            header_row  : Row where the header is, starting at 0. Optional.\n",
      "                          As default 1.\n",
      "            columns     : An array of strings, with the names of\n",
      "                          the headers you want to read. Optional.\n",
      "            location    : A string with the location of the file. Optional.\n",
      "                Example : \"./io/input/folders/to/your/file/\"\n",
      "                \n",
      "       Example 1: This example can be found inside the Input Sandbox. This is a very basic\n",
      "                 definition.\n",
      "                \n",
      "                     df = readExcel(\"pismo\",\"Main\",1,location = \"./io/input/examples/\")\n",
      "                \n",
      "       Example 2: This example shows how to use column selection. In this case, we will only\n",
      "                 select the index and date columns from the sheet.\n",
      "       \n",
      "                     df = readExcel(\"pismo\",\"Main\",1,columns = [\"index\",\"date\"],location = \"./io/input/examples/\")\n",
      "                \n",
      "       Output: Dataframe \n",
      "    \n"
     ]
    }
   ],
   "source": [
    "# Full data taken from the function.\n",
    "\n",
    "from src.io import readExcel\n",
    "\n",
    "dataframe_full = readExcel(\"pismo\",\"Main\",1,location = \"./io/input/examples/\")\n",
    "print(dataframe_full.head(5))\n",
    "print(\"\")\n",
    "\n",
    "# Partial data taken from the function\n",
    "dataframe_partial = readExcel(\"pismo\",\"Main\",1,columns = [\"index\",\"date\"],location = \"./io/input/examples/\")\n",
    "print(dataframe_partial.head(5))\n",
    "print(\"\")\n",
    "\n",
    "# Documentation\n",
    "print(readExcel.__doc__)"
   ]
  },
  {
   "cell_type": "markdown",
   "metadata": {},
   "source": [
    "### Read CSV"
   ]
  },
  {
   "cell_type": "code",
   "execution_count": 3,
   "metadata": {},
   "outputs": [
    {
     "name": "stdout",
     "output_type": "stream",
     "text": [
      "   rooms  bathrooms              apn active\n",
      "0      2          2  062-345-324-135    yes\n",
      "1      3          2  064-953-456-554     no\n",
      "2      1          2  063-445-751-123    yes\n",
      "3      5          7  061-635-552-412    yes\n",
      "   rooms  bathrooms\n",
      "0      2          2\n",
      "1      3          2\n",
      "2      1          2\n",
      "3      5          7\n",
      "\n",
      "Lets you read any CSV file and returns a dataframe.\n",
      "       Parameters:\n",
      "           filename    : Name of the file, no termination.\n",
      "           header      : Row where the header is, starting at 0. Optional.\n",
      "           columns     : An array of strings, with the names of\n",
      "                         the headers you want to read. Optional.\n",
      "           location    : Location of the file. Optional.\n",
      "               Example : \"./io/input/folders/to/your/file/\"\n",
      "       \n",
      "       Example 1: The following example can be found at the Input Sandbox section. It reads some random CSV file.\n",
      "       \n",
      "                      csv = readCSV(\"csv\", location = \"./io/input/examples/\")\n",
      "       \n",
      "       Example 2: The following is exactly the same as example 1, but selects only two columns.\n",
      "       \n",
      "                      csv = readCSV(\"csv\", location  = \"./io/input/examples/\", columns = [\"rooms\", \"bathrooms\"])\n",
      "       \n",
      "       Output: Dataframe\n",
      "    \n"
     ]
    }
   ],
   "source": [
    "# Reading CSV files.\n",
    "\n",
    "from src.input import readCSV\n",
    "\n",
    "print(readCSV(\"csv\", location = \"./io/input/examples/\"))\n",
    "print(readCSV(\"csv\", location  = \"./io/input/examples/\", columns = [\"rooms\", \"bathrooms\"]))\n",
    "print(\"\")\n",
    "\n",
    "\n",
    "# Documentation\n",
    "print(readCSV.__doc__)"
   ]
  },
  {
   "cell_type": "markdown",
   "metadata": {},
   "source": [
    "### Read JSON"
   ]
  },
  {
   "cell_type": "code",
   "execution_count": 4,
   "metadata": {},
   "outputs": [
    {
     "name": "stdout",
     "output_type": "stream",
     "text": [
      "Example: {'name': 'John', 'age': 30, 'cars': {'car1': 'Ford', 'car2': 'BMW', 'car3': 'Fiat'}}\n",
      "\n",
      "Lets you read any json files and returns a python dict. \n",
      "       Parameters:\n",
      "           filename    : Name of the file, no termination.\n",
      "           location    : Location of the file. Optional.\n",
      "               Example : \"./io/input/folders/to/your/file/\"\n",
      "       \n",
      "       Example: The following example can be found at the Input Sandbox section. It reads some random JSON file.\n",
      "       \n",
      "                    dict = readJSON(\"json\",\"./io/input/examples/\")\n",
      "       \n",
      "       Output: dict\n",
      "    \n"
     ]
    }
   ],
   "source": [
    "# Reading a JSON file\n",
    "\n",
    "from src.input import readJSON\n",
    "\n",
    "print(\"Example:\", readJSON(\"jason\",\"./io/input/examples/\"))\n",
    "print(\"\")\n",
    "\n",
    "# Documentation\n",
    "print(readJSON.__doc__)"
   ]
  },
  {
   "cell_type": "markdown",
   "metadata": {},
   "source": [
    "## Time"
   ]
  },
  {
   "cell_type": "markdown",
   "metadata": {},
   "source": [
    "### Today"
   ]
  },
  {
   "cell_type": "code",
   "execution_count": 5,
   "metadata": {},
   "outputs": [
    {
     "name": "stdout",
     "output_type": "stream",
     "text": [
      "Example: 04/09/2020\n",
      "\n",
      "Returns today as a string with an optional parameter called format.\n",
      "       Parameters:\n",
      "           format: The way you want to display the data, \n",
      "           as default the same format as datetime. Optional.\n",
      "                   As a default, it starts with a %m/%d/%Y format.\n",
      "                   \n",
      "       Example: The following example gets you todays date on non-retarded format.\n",
      "       \n",
      "                    today = today(\"%d,%m,%Y\")\n",
      "                   \n",
      "       Output: String\n",
      "    \n"
     ]
    }
   ],
   "source": [
    "from src.time import today\n",
    "\n",
    "# Get todays date\n",
    "print(\"Example:\", today())\n",
    "print()\n",
    "print(today.__doc__)"
   ]
  },
  {
   "cell_type": "markdown",
   "metadata": {},
   "source": [
    "### Date Manipulation"
   ]
  },
  {
   "cell_type": "markdown",
   "metadata": {},
   "source": [
    "### Next and Previous Days"
   ]
  },
  {
   "cell_type": "code",
   "execution_count": 6,
   "metadata": {},
   "outputs": [
    {
     "name": "stdout",
     "output_type": "stream",
     "text": [
      "Example: 04/13/2020\n",
      "\n",
      "Returns next day by full nume.\n",
      "       Example: nextDay(\"Friday\")\n",
      "       Parameters:\n",
      "           day: Day of the week as a string. For example, friday. The function is not case sensitive.\n",
      "           format: The way you want to display the data, \n",
      "           as default the same format as datetime. Optional.\n",
      "                   As a default, it starts with a %m/%d/%Y format.\n",
      "       \n",
      "       Example: This will get next monday date.\n",
      "       \n",
      "                    tomorrow = tomorrow(\"monday\")\n",
      "       \n",
      "       Output: String\n",
      "    \n",
      "Example: 04/03/2020\n",
      "\n",
      "Returns previous day by full nume.\n",
      "       Example: prevDay(\"Friday\")\n",
      "       Parameters :\n",
      "           day    : Day of the week as a string. For example, friday. The function is not case sensitive.\n",
      "           format : The way you want to display the data, \n",
      "           as default the same format as datetime. Optional.\n",
      "                    As a default, it starts with a %m/%d/%Y format.\n",
      "       \n",
      "       Example: This will get next friday date.\n",
      "       \n",
      "                    yesterday = yesterday(\"Friday\")\n",
      "       \n",
      "       Output: String\n",
      "    \n"
     ]
    }
   ],
   "source": [
    "from src.time import nextDay, prevDay\n",
    "\n",
    "# Get next day\n",
    "print(\"Example:\", nextDay(\"monDay\"))\n",
    "print()\n",
    "print(nextDay.__doc__)\n",
    "\n",
    "# Get prev day\n",
    "print(\"Example:\", prevDay(\"FrIdAy\"))\n",
    "print()\n",
    "print(prevDay.__doc__)"
   ]
  },
  {
   "cell_type": "markdown",
   "metadata": {},
   "source": [
    "### Adding and Subtracting Time"
   ]
  },
  {
   "cell_type": "code",
   "execution_count": 7,
   "metadata": {},
   "outputs": [
    {
     "name": "stdout",
     "output_type": "stream",
     "text": [
      "Example: 11/26/2012\n",
      "Example: 11/26/2012\n",
      "\n",
      "Adds time period to a given date.\n",
      "       Parameters:\n",
      "           date   : Date to transform. Can be a String or a Date.\n",
      "           days   : Days to be added. Optional.\n",
      "           weeks  : Weeks to be added. Optional.\n",
      "           months : Months to be added, if you start at the 25th of March and add 3 months you will\n",
      "                    end up in the 25th of June. Optional.\n",
      "           years  : Years to be added. Optional.\n",
      "           format : The way you want to display the data, \n",
      "           as default the same format as datetime. Optional.\n",
      "                    As a default, it starts with a %m/%d/%Y format.\n",
      "       \n",
      "       Example: Lets add a few days, weeks, months and years.\n",
      "       \n",
      "                    newDate = addTime(\"01/01/2000\",days = 4, weeks = 3, months = 10, years = 12)\n",
      "       \n",
      "       Output: String\n",
      "    \n",
      "Example: 02/07/1987\n",
      "Example: 02/07/1987\n",
      "\n",
      "Subtracts time period to a given date.\n",
      "       Parameters:\n",
      "           date   : Date to transform. Can be a String or a Date.\n",
      "           days   : Days to be subtracted. Optional.\n",
      "           weeks  : Weeks to be subtracted. Optional.\n",
      "           months : Months to be subtracted, \n",
      "           if you start at the 25th of March and subtract 3 months you will\n",
      "                    end up in the 25th of December. Optional.\n",
      "           years  : Years to be subtracted. Optional.\n",
      "           format : The way you want to display the data, \n",
      "           as default the same format as datetime. Optional.\n",
      "                    As a default, it starts with a %m/%d/%Y format.\n",
      "       \n",
      "       Example: Lets subtract a few days, weeks, months and years.\n",
      "       \n",
      "                    newDate = subTime(\"01/01/2000\",days = 4, weeks = 3, months = 10, years = 12)\n",
      "       \n",
      "       Output: String\n",
      "    \n"
     ]
    }
   ],
   "source": [
    "from src.time import addTime, subTime\n",
    "from src.transform import strToDate\n",
    "\n",
    "# Add time\n",
    "print(\"Example:\", addTime(\"01/01/2000\",days = 4, weeks = 3, months = 10, years = 12))\n",
    "print(\"Example:\", addTime(strToDate(\"01/01/2000\"),days = 4, weeks = 3, months = 10, years = 12))\n",
    "print()\n",
    "print(addTime.__doc__)\n",
    "\n",
    "# Subtract time\n",
    "print(\"Example:\", subTime(\"01/01/2000\",days = 4, weeks = 3, months = 10, years = 12))\n",
    "print(\"Example:\", subTime(strToDate(\"01/01/2000\"),days = 4, weeks = 3, months = 10, years = 12))\n",
    "print()\n",
    "print(subTime.__doc__)"
   ]
  },
  {
   "cell_type": "markdown",
   "metadata": {},
   "source": [
    "### Date Transformations"
   ]
  },
  {
   "cell_type": "code",
   "execution_count": 8,
   "metadata": {},
   "outputs": [
    {
     "name": "stdout",
     "output_type": "stream",
     "text": [
      "Example: <class 'str'> to <class 'datetime.datetime'>\n",
      "\n",
      "Converts a String into a Date.\n",
      "       Parameters:\n",
      "           date: A date as a string.\n",
      "           format: The way you want to display the data,\n",
      "           as default the same format as datetime. Optional.\n",
      "                   As a default, it starts with a %m/%d/%Y format.\n",
      "                   \n",
      "       Example: Change str 01/01/2000 to Datetime.\n",
      "       \n",
      "                    date = strToDate(\"01/01/2000\")\n",
      "       \n",
      "       Output: Date\n",
      "    \n",
      "Example: <class 'str'> to <class 'str'>\n",
      "\n",
      "Converts a Date into a String.\n",
      "       Parameters:\n",
      "           date: A date as a Date.\n",
      "           format: The way you want to display the data, \n",
      "           as default the same format as datetime. Optional.\n",
      "                   As a default, it starts with a %m/%d/%Y format.\n",
      "                   \n",
      "       Example: Changes Datetime to str.\n",
      "       \n",
      "                    str = dateToStr(datetime.now())\n",
      "       \n",
      "       Output: String\n",
      "    \n"
     ]
    }
   ],
   "source": [
    "# Converting String to Datetime\n",
    "\n",
    "from src.time import today\n",
    "from src.transform import strToDate, dateToStr\n",
    "\n",
    "print(\"Example:\", type(\"01/01/2000\"),\"to\",type(strToDate(\"01/01/2000\")))\n",
    "print()\n",
    "print(strToDate.__doc__)\n",
    "\n",
    "print(\"Example:\", type(today()),\"to\",type(dateToStr(strToDate(today()))))\n",
    "print()\n",
    "print(dateToStr.__doc__)"
   ]
  },
  {
   "cell_type": "code",
   "execution_count": null,
   "metadata": {},
   "outputs": [],
   "source": []
  },
  {
   "cell_type": "code",
   "execution_count": 9,
   "metadata": {},
   "outputs": [
    {
     "name": "stdout",
     "output_type": "stream",
     "text": [
      "Example:\n",
      "<Element 'XML_Object' at 0x000001351B3239F8>\n",
      "<XML_Object><name>John</name><age>30</age><cars><car1>Ford</car1><car2>BMW</car2><car3>Fiat</car3></cars></XML_Object>\n",
      "\n",
      "A basic tool to convert from JSON to XML. This tool MIGHT not take into account all possible scenarios,\n",
      "    but should for most cases. Supports nested objects\n",
      "       Parameters:\n",
      "           json     : The JSON object/dict you want to transform. \n",
      "                      Note that since JSON objects are parsed as dict, both should work.\n",
      "           tag      : The tag is the name of the object. XML_Object as default\n",
      "           write    : A True or False value, if False, it will return instead of writing.\n",
      "           filename : Name of the file, no termination. Default is output.xml.\n",
      "       \n",
      "       Example: An example of how to transform a random JSON file into an XML object. readJSON can be found at input.py for more information.\n",
      "       \n",
      "                    json_file  = readJSON(\"jason\",\"./io/input/examples/\")\n",
      "                    \n",
      "                    xml_object = jsonToXML(json_file)\n",
      "       \n",
      "       Output: If write=True, a file at io/output/ else, ElementTree.Element\n",
      "    \n"
     ]
    }
   ],
   "source": [
    "from src.transform import jsonToXML, jsonToString\n",
    "import xml.etree.ElementTree as etree\n",
    "\n",
    "json_file = readJSON(\"jason\",\"./io/input/examples/\")\n",
    "\n",
    "print(\"Example:\")\n",
    "print(jsonToXML(json_file))\n",
    "etree.dump(jsonToXML(json_file))\n",
    "print()\n",
    "print(jsonToXML.__doc__)"
   ]
  },
  {
   "cell_type": "markdown",
   "metadata": {},
   "source": [
    "### JSON Transformations"
   ]
  },
  {
   "cell_type": "code",
   "execution_count": 10,
   "metadata": {},
   "outputs": [
    {
     "name": "stdout",
     "output_type": "stream",
     "text": [
      "{\"name\": \"John\", \"age\": 30, \"cars\": {\"car1\": \"Ford\", \"car2\": \"BMW\", \"car3\": \"Fiat\"}}\n",
      "\n",
      "A basic tool to convert from JSON to String.\n",
      "       Parameters:\n",
      "           json  : The JSON object/dict you want to transform. \n",
      "                   Note that since JSON objects are parsed as dict, both should work.\n",
      "       \n",
      "       Example   : Turns a random dict into a string.\n",
      "                       \n",
      "                       json_file  = readJSON(\"jason\",\"./io/input/examples/\")\n",
      "                       \n",
      "                       string = jsonToString(json_file)\n",
      "                       \n",
      "       Output    : String\n",
      "    \n"
     ]
    }
   ],
   "source": [
    "from src.transform import jsonToString\n",
    "\n",
    "print(jsonToString(json_file))\n",
    "print()\n",
    "print(jsonToString.__doc__)"
   ]
  },
  {
   "cell_type": "code",
   "execution_count": 11,
   "metadata": {},
   "outputs": [
    {
     "name": "stdout",
     "output_type": "stream",
     "text": [
      "Dataframe\n",
      "   a   b\n",
      "0  1   9\n",
      "1  2  51\n",
      "2  4  41\n",
      "3  3   2\n",
      "4  5  12\n",
      "\n",
      "Sorted\n",
      "   a   b\n",
      "0  1   9\n",
      "1  2  51\n",
      "2  4  41\n",
      "3  3   2\n",
      "4  5  12\n",
      "\n",
      "Sorted Lists\n",
      "lists [[0, 9], [1, 52], [2, 41], [3, 2], [4, 12]]\n",
      "\n",
      "Sorted Tuples\n",
      "tuples [(0, 9), (1, 52), (2, 41), (3, 2), (4, 12)]\n",
      "\n",
      "Sorts DataFrames, List of Lists or List of Tuples in relation to a List.\n",
      "       Parameters:\n",
      "           List  : The List you want to order the items from Data as.\n",
      "           Data  : The DataFrame, List of Lists or List of Tuple you want to organize by that List.\n",
      "           Index : The Index inside the Dataframe, List or Tuple that you want to organize. Optional.\n",
      "                   Defaults to 0.\n",
      "                   \n",
      "       Example   : We will wort one list in relation to another. In this case, we will sort listb in relation to lista. It will en up reverting the list.\n",
      "       \n",
      "                       lista = [4,3,2,1,0]\n",
      "                       listb = [[0,9],[1,52],[2,41],[3,2],[4,12]]\n",
      "                       \n",
      "                       sorted_list = sortByList(lista, listb)\n",
      "                       \n",
      "       Output    : Dataframe, List of Lists or List of Tuples\n",
      "    \n"
     ]
    }
   ],
   "source": [
    "from src.util import sortByList\n",
    "\n",
    "lista, listb, listc = [0,1,2,3,4], [[0,9],[1,52],[2,41],[3,2],[4,12]], [(0,9),(1,52),(2,41),(3,2),(4,12)]\n",
    "dataframe = pd.DataFrame(columns=[\"a\",\"b\"])\n",
    "dataframe = dataframe.append({\"a\":1,\"b\":9}, ignore_index = True)\n",
    "dataframe = dataframe.append({\"a\":2,\"b\":51}, ignore_index = True)\n",
    "dataframe = dataframe.append({\"a\":4,\"b\":41}, ignore_index = True)\n",
    "dataframe = dataframe.append({\"a\":3,\"b\":2}, ignore_index = True)\n",
    "dataframe = dataframe.append({\"a\":5,\"b\":12}, ignore_index = True)\n",
    "\n",
    "print(\"Dataframe\")\n",
    "print(dataframe.head())\n",
    "print()\n",
    "print(\"Sorted\")\n",
    "print(sortByList(lista, dataframe))\n",
    "print()\n",
    "print(\"Sorted Lists\")\n",
    "print(\"lists\",sortByList(lista, listb))\n",
    "print()\n",
    "print(\"Sorted Tuples\")\n",
    "print(\"tuples\",sortByList(lista, listc))\n",
    "print()\n",
    "\n",
    "# Documentation\n",
    "print(sortByList.__doc__)"
   ]
  },
  {
   "cell_type": "code",
   "execution_count": 12,
   "metadata": {},
   "outputs": [
    {
     "name": "stdout",
     "output_type": "stream",
     "text": [
      "          col1     col2     col3\n",
      "count  2.00000  2.00000  2.00000\n",
      "mean   1.50000  2.50000  3.50000\n",
      "std    2.12132  2.12132  2.12132\n",
      "min    0.00000  1.00000  2.00000\n",
      "25%    0.75000  1.75000  2.75000\n",
      "50%    1.50000  2.50000  3.50000\n",
      "75%    2.25000  3.25000  4.25000\n",
      "max    3.00000  4.00000  5.00000\n",
      "\n",
      "          col1     col2     col3\n",
      "count  2.00000  2.00000  2.00000\n",
      "mean   1.50000  2.50000  3.50000\n",
      "std    2.12132  2.12132  2.12132\n",
      "min    0.00000  1.00000  2.00000\n",
      "25%    0.75000  1.75000  2.75000\n",
      "50%    1.50000  2.50000  3.50000\n",
      "75%    2.25000  3.25000  4.25000\n",
      "max    3.00000  4.00000  5.00000\n",
      "\n",
      "Shows significant data about a DataFrame, List of Lists or List of Tuples.\n",
      "       Parameters  :\n",
      "           data    : Data to be used, either a DataFrame, a List of Lists or a List of Tuples.\n",
      "           columns : Column names for the data. Optional, not needed if using DataFrames.\n",
      "           \n",
      "       Example     : In this case from the Sandbox, we can get a description of our data.\n",
      "       \n",
      "                         data    = [[0, 1, 2],[3, 4, 5]]\n",
      "                         columns = [\"col1\", \"col2\", \"col3\"]\n",
      "                         \n",
      "                         describeData(l,c)\n",
      "           \n",
      "       Output      : DataFrame\n",
      "    \n",
      "\n"
     ]
    }
   ],
   "source": [
    "l, t, c = [[0, 1, 2],[3, 4, 5]], [(0,1,2),(3,4,5)], [\"col1\", \"col2\", \"col3\"]\n",
    "from src.util import describeData\n",
    "    \n",
    "print((describeData(l,c)))\n",
    "print()\n",
    "print(describeData(t,c))\n",
    "print()\n",
    "print(describeData.__doc__)\n",
    "print()"
   ]
  },
  {
   "cell_type": "code",
   "execution_count": 13,
   "metadata": {},
   "outputs": [
    {
     "name": "stdout",
     "output_type": "stream",
     "text": [
      "<class 'pandas.core.frame.DataFrame'>\n",
      "RangeIndex: 2 entries, 0 to 1\n",
      "Data columns (total 3 columns):\n",
      "col1    2 non-null int64\n",
      "col2    2 non-null int64\n",
      "col3    2 non-null int64\n",
      "dtypes: int64(3)\n",
      "memory usage: 176.0 bytes\n",
      "<class 'NoneType'>\n",
      "\n",
      "<class 'pandas.core.frame.DataFrame'>\n",
      "RangeIndex: 2 entries, 0 to 1\n",
      "Data columns (total 3 columns):\n",
      "col1    2 non-null int64\n",
      "col2    2 non-null int64\n",
      "col3    2 non-null int64\n",
      "dtypes: int64(3)\n",
      "memory usage: 176.0 bytes\n",
      "None\n",
      "\n",
      "Displays technical data about the DataFrame, List of Lists or List of Tuples.\n",
      "       Parameters  : \n",
      "           data    : Data to be used, either a DataFrame, a List of Lists or a List of Tuples.\n",
      "           columns : Column names for the data. Optional, not needed if using DataFrames.\n",
      "           \n",
      "       Example     : In this case from the Sandbox, we can get info about our data.\n",
      "       \n",
      "                         data    = [[0, 1, 2],[3, 4, 5]]\n",
      "                         columns = [\"col1\", \"col2\", \"col3\"]\n",
      "                         \n",
      "                         dataInfo(l,c)\n",
      "           \n",
      "       Output      : None\n",
      "    \n"
     ]
    }
   ],
   "source": [
    "l, t, c = [[0, 1, 2],[3, 4, 5]], [(0,1,2),(3,4,5)], [\"col1\", \"col2\", \"col3\"]\n",
    "from src.util import dataInfo\n",
    "\n",
    "print(type(dataInfo(l,c)))\n",
    "print()\n",
    "print(dataInfo(t,c))\n",
    "print()\n",
    "print(dataInfo.__doc__)"
   ]
  },
  {
   "cell_type": "code",
   "execution_count": 14,
   "metadata": {
    "scrolled": true
   },
   "outputs": [
    {
     "data": {
      "text/html": [
       "<div style=\"width:100%;\"><div style=\"position:relative;width:100%;height:0;padding-bottom:60%;\"><iframe src=\"about:blank\" style=\"position:absolute;width:100%;height:100%;left:0;top:0;border:none !important;\" data-html=PCFET0NUWVBFIGh0bWw+CjxoZWFkPiAgICAKICAgIDxtZXRhIGh0dHAtZXF1aXY9ImNvbnRlbnQtdHlwZSIgY29udGVudD0idGV4dC9odG1sOyBjaGFyc2V0PVVURi04IiAvPgogICAgCiAgICAgICAgPHNjcmlwdD4KICAgICAgICAgICAgTF9OT19UT1VDSCA9IGZhbHNlOwogICAgICAgICAgICBMX0RJU0FCTEVfM0QgPSBmYWxzZTsKICAgICAgICA8L3NjcmlwdD4KICAgIAogICAgPHNjcmlwdCBzcmM9Imh0dHBzOi8vY2RuLmpzZGVsaXZyLm5ldC9ucG0vbGVhZmxldEAxLjUuMS9kaXN0L2xlYWZsZXQuanMiPjwvc2NyaXB0PgogICAgPHNjcmlwdCBzcmM9Imh0dHBzOi8vY29kZS5qcXVlcnkuY29tL2pxdWVyeS0xLjEyLjQubWluLmpzIj48L3NjcmlwdD4KICAgIDxzY3JpcHQgc3JjPSJodHRwczovL21heGNkbi5ib290c3RyYXBjZG4uY29tL2Jvb3RzdHJhcC8zLjIuMC9qcy9ib290c3RyYXAubWluLmpzIj48L3NjcmlwdD4KICAgIDxzY3JpcHQgc3JjPSJodHRwczovL2NkbmpzLmNsb3VkZmxhcmUuY29tL2FqYXgvbGlicy9MZWFmbGV0LmF3ZXNvbWUtbWFya2Vycy8yLjAuMi9sZWFmbGV0LmF3ZXNvbWUtbWFya2Vycy5qcyI+PC9zY3JpcHQ+CiAgICA8bGluayByZWw9InN0eWxlc2hlZXQiIGhyZWY9Imh0dHBzOi8vY2RuLmpzZGVsaXZyLm5ldC9ucG0vbGVhZmxldEAxLjUuMS9kaXN0L2xlYWZsZXQuY3NzIi8+CiAgICA8bGluayByZWw9InN0eWxlc2hlZXQiIGhyZWY9Imh0dHBzOi8vbWF4Y2RuLmJvb3RzdHJhcGNkbi5jb20vYm9vdHN0cmFwLzMuMi4wL2Nzcy9ib290c3RyYXAubWluLmNzcyIvPgogICAgPGxpbmsgcmVsPSJzdHlsZXNoZWV0IiBocmVmPSJodHRwczovL21heGNkbi5ib290c3RyYXBjZG4uY29tL2Jvb3RzdHJhcC8zLjIuMC9jc3MvYm9vdHN0cmFwLXRoZW1lLm1pbi5jc3MiLz4KICAgIDxsaW5rIHJlbD0ic3R5bGVzaGVldCIgaHJlZj0iaHR0cHM6Ly9tYXhjZG4uYm9vdHN0cmFwY2RuLmNvbS9mb250LWF3ZXNvbWUvNC42LjMvY3NzL2ZvbnQtYXdlc29tZS5taW4uY3NzIi8+CiAgICA8bGluayByZWw9InN0eWxlc2hlZXQiIGhyZWY9Imh0dHBzOi8vY2RuanMuY2xvdWRmbGFyZS5jb20vYWpheC9saWJzL0xlYWZsZXQuYXdlc29tZS1tYXJrZXJzLzIuMC4yL2xlYWZsZXQuYXdlc29tZS1tYXJrZXJzLmNzcyIvPgogICAgPGxpbmsgcmVsPSJzdHlsZXNoZWV0IiBocmVmPSJodHRwczovL3Jhd2Nkbi5naXRoYWNrLmNvbS9weXRob24tdmlzdWFsaXphdGlvbi9mb2xpdW0vbWFzdGVyL2ZvbGl1bS90ZW1wbGF0ZXMvbGVhZmxldC5hd2Vzb21lLnJvdGF0ZS5jc3MiLz4KICAgIDxzdHlsZT5odG1sLCBib2R5IHt3aWR0aDogMTAwJTtoZWlnaHQ6IDEwMCU7bWFyZ2luOiAwO3BhZGRpbmc6IDA7fTwvc3R5bGU+CiAgICA8c3R5bGU+I21hcCB7cG9zaXRpb246YWJzb2x1dGU7dG9wOjA7Ym90dG9tOjA7cmlnaHQ6MDtsZWZ0OjA7fTwvc3R5bGU+CiAgICAKICAgICAgICAgICAgPG1ldGEgbmFtZT0idmlld3BvcnQiIGNvbnRlbnQ9IndpZHRoPWRldmljZS13aWR0aCwKICAgICAgICAgICAgICAgIGluaXRpYWwtc2NhbGU9MS4wLCBtYXhpbXVtLXNjYWxlPTEuMCwgdXNlci1zY2FsYWJsZT1ubyIgLz4KICAgICAgICAgICAgPHN0eWxlPgogICAgICAgICAgICAgICAgI21hcF83ODQ3OTY5OWVlY2Y0ZTA5OTNkOGFhZjA5MzZiZTkyYSB7CiAgICAgICAgICAgICAgICAgICAgcG9zaXRpb246IHJlbGF0aXZlOwogICAgICAgICAgICAgICAgICAgIHdpZHRoOiAxMDAuMCU7CiAgICAgICAgICAgICAgICAgICAgaGVpZ2h0OiAxMDAuMCU7CiAgICAgICAgICAgICAgICAgICAgbGVmdDogMC4wJTsKICAgICAgICAgICAgICAgICAgICB0b3A6IDAuMCU7CiAgICAgICAgICAgICAgICB9CiAgICAgICAgICAgIDwvc3R5bGU+CiAgICAgICAgCjwvaGVhZD4KPGJvZHk+ICAgIAogICAgCiAgICAgICAgICAgIDxkaXYgY2xhc3M9ImZvbGl1bS1tYXAiIGlkPSJtYXBfNzg0Nzk2OTllZWNmNGUwOTkzZDhhYWYwOTM2YmU5MmEiID48L2Rpdj4KICAgICAgICAKPC9ib2R5Pgo8c2NyaXB0PiAgICAKICAgIAogICAgICAgICAgICB2YXIgbWFwXzc4NDc5Njk5ZWVjZjRlMDk5M2Q4YWFmMDkzNmJlOTJhID0gTC5tYXAoCiAgICAgICAgICAgICAgICAibWFwXzc4NDc5Njk5ZWVjZjRlMDk5M2Q4YWFmMDkzNmJlOTJhIiwKICAgICAgICAgICAgICAgIHsKICAgICAgICAgICAgICAgICAgICBjZW50ZXI6IFs0NS4zMjg4LCAtMTIxLjY2MjVdLAogICAgICAgICAgICAgICAgICAgIGNyczogTC5DUlMuRVBTRzM4NTcsCiAgICAgICAgICAgICAgICAgICAgem9vbTogMTIsCiAgICAgICAgICAgICAgICAgICAgem9vbUNvbnRyb2w6IHRydWUsCiAgICAgICAgICAgICAgICAgICAgcHJlZmVyQ2FudmFzOiBmYWxzZSwKICAgICAgICAgICAgICAgIH0KICAgICAgICAgICAgKTsKCiAgICAgICAgICAgIAoKICAgICAgICAKICAgIAogICAgICAgICAgICB2YXIgdGlsZV9sYXllcl82ODU2ZTkxNDVhM2E0NzUzOTdkYmM5ZWMzMmI3ZmE3NSA9IEwudGlsZUxheWVyKAogICAgICAgICAgICAgICAgImh0dHBzOi8vc3RhbWVuLXRpbGVzLXtzfS5hLnNzbC5mYXN0bHkubmV0L3RlcnJhaW4ve3p9L3t4fS97eX0uanBnIiwKICAgICAgICAgICAgICAgIHsiYXR0cmlidXRpb24iOiAiTWFwIHRpbGVzIGJ5IFx1MDAzY2EgaHJlZj1cImh0dHA6Ly9zdGFtZW4uY29tXCJcdTAwM2VTdGFtZW4gRGVzaWduXHUwMDNjL2FcdTAwM2UsIHVuZGVyIFx1MDAzY2EgaHJlZj1cImh0dHA6Ly9jcmVhdGl2ZWNvbW1vbnMub3JnL2xpY2Vuc2VzL2J5LzMuMFwiXHUwMDNlQ0MgQlkgMy4wXHUwMDNjL2FcdTAwM2UuIERhdGEgYnkgXHUwMDI2Y29weTsgXHUwMDNjYSBocmVmPVwiaHR0cDovL29wZW5zdHJlZXRtYXAub3JnXCJcdTAwM2VPcGVuU3RyZWV0TWFwXHUwMDNjL2FcdTAwM2UsIHVuZGVyIFx1MDAzY2EgaHJlZj1cImh0dHA6Ly9jcmVhdGl2ZWNvbW1vbnMub3JnL2xpY2Vuc2VzL2J5LXNhLzMuMFwiXHUwMDNlQ0MgQlkgU0FcdTAwM2MvYVx1MDAzZS4iLCAiZGV0ZWN0UmV0aW5hIjogZmFsc2UsICJtYXhOYXRpdmVab29tIjogMTgsICJtYXhab29tIjogMTgsICJtaW5ab29tIjogMCwgIm5vV3JhcCI6IGZhbHNlLCAib3BhY2l0eSI6IDEsICJzdWJkb21haW5zIjogImFiYyIsICJ0bXMiOiBmYWxzZX0KICAgICAgICAgICAgKS5hZGRUbyhtYXBfNzg0Nzk2OTllZWNmNGUwOTkzZDhhYWYwOTM2YmU5MmEpOwogICAgICAgIAogICAgCiAgICAgICAgICAgIHZhciBtYXJrZXJfZTBjY2E2MTI5NDFiNDg2MThiZmI5ZjUzZThmYmQ1MDkgPSBMLm1hcmtlcigKICAgICAgICAgICAgICAgIFs0NS4zMjg4LCAtMTIxLjY2MjVdLAogICAgICAgICAgICAgICAge30KICAgICAgICAgICAgKS5hZGRUbyhtYXBfNzg0Nzk2OTllZWNmNGUwOTkzZDhhYWYwOTM2YmU5MmEpOwogICAgICAgIAogICAgCiAgICAgICAgICAgIHZhciBpY29uX2U5ZTFiNGIxNWYwYzRkMTBhMmEyYTRhODI1MDViN2Q2ID0gTC5Bd2Vzb21lTWFya2Vycy5pY29uKAogICAgICAgICAgICAgICAgeyJleHRyYUNsYXNzZXMiOiAiZmEtcm90YXRlLTAiLCAiaWNvbiI6ICJjbG91ZCIsICJpY29uQ29sb3IiOiAid2hpdGUiLCAibWFya2VyQ29sb3IiOiAiYmx1ZSIsICJwcmVmaXgiOiAiZ2x5cGhpY29uIn0KICAgICAgICAgICAgKTsKICAgICAgICAgICAgbWFya2VyX2UwY2NhNjEyOTQxYjQ4NjE4YmZiOWY1M2U4ZmJkNTA5LnNldEljb24oaWNvbl9lOWUxYjRiMTVmMGM0ZDEwYTJhMmE0YTgyNTA1YjdkNik7CiAgICAgICAgCiAgICAKICAgICAgICB2YXIgcG9wdXBfNWJhOTdlMDRiMjYyNDQzMDgzYWYzODk4ZjM1NTJhZjQgPSBMLnBvcHVwKHsibWF4V2lkdGgiOiAiMTAwJSJ9KTsKCiAgICAgICAgCiAgICAgICAgICAgIHZhciBodG1sX2MyNTFmOTJmMWIwZTQ4MmU5OTIzMjRhZGQ1ZjUxNmFhID0gJChgPGRpdiBpZD0iaHRtbF9jMjUxZjkyZjFiMGU0ODJlOTkyMzI0YWRkNWY1MTZhYSIgc3R5bGU9IndpZHRoOiAxMDAuMCU7IGhlaWdodDogMTAwLjAlOyI+TXQuIEhvb2QgTWVhZG93czwvZGl2PmApWzBdOwogICAgICAgICAgICBwb3B1cF81YmE5N2UwNGIyNjI0NDMwODNhZjM4OThmMzU1MmFmNC5zZXRDb250ZW50KGh0bWxfYzI1MWY5MmYxYjBlNDgyZTk5MjMyNGFkZDVmNTE2YWEpOwogICAgICAgIAoKICAgICAgICBtYXJrZXJfZTBjY2E2MTI5NDFiNDg2MThiZmI5ZjUzZThmYmQ1MDkuYmluZFBvcHVwKHBvcHVwXzViYTk3ZTA0YjI2MjQ0MzA4M2FmMzg5OGYzNTUyYWY0KQogICAgICAgIDsKCiAgICAgICAgCiAgICAKICAgIAogICAgICAgICAgICB2YXIgbWFya2VyXzBhZTBmZDI3ZWEzMjQ5MTk5MzhmZjFlNmExZTQ4MmE3ID0gTC5tYXJrZXIoCiAgICAgICAgICAgICAgICBbNDUuMzMxMSwgLTEyMS43MTEzXSwKICAgICAgICAgICAgICAgIHt9CiAgICAgICAgICAgICkuYWRkVG8obWFwXzc4NDc5Njk5ZWVjZjRlMDk5M2Q4YWFmMDkzNmJlOTJhKTsKICAgICAgICAKICAgIAogICAgICAgICAgICB2YXIgaWNvbl8xNDg3NjdlMTc1NDg0YzliYWMwNGZkYWU4YmFlZjBjOCA9IEwuQXdlc29tZU1hcmtlcnMuaWNvbigKICAgICAgICAgICAgICAgIHsiZXh0cmFDbGFzc2VzIjogImZhLXJvdGF0ZS0wIiwgImljb24iOiAiaW5mby1zaWduIiwgImljb25Db2xvciI6ICJ3aGl0ZSIsICJtYXJrZXJDb2xvciI6ICJncmVlbiIsICJwcmVmaXgiOiAiZ2x5cGhpY29uIn0KICAgICAgICAgICAgKTsKICAgICAgICAgICAgbWFya2VyXzBhZTBmZDI3ZWEzMjQ5MTk5MzhmZjFlNmExZTQ4MmE3LnNldEljb24oaWNvbl8xNDg3NjdlMTc1NDg0YzliYWMwNGZkYWU4YmFlZjBjOCk7CiAgICAgICAgCiAgICAKICAgICAgICB2YXIgcG9wdXBfNmU2NWU5MmI5OWYzNDZiYWJhMWQxYzA4YjA2MzE0MDggPSBMLnBvcHVwKHsibWF4V2lkdGgiOiAiMTAwJSJ9KTsKCiAgICAgICAgCiAgICAgICAgICAgIHZhciBodG1sX2Q2NDhkMjcxMmU3MzQ3M2JiYTFjMDMyMzBlZGIyYmVkID0gJChgPGRpdiBpZD0iaHRtbF9kNjQ4ZDI3MTJlNzM0NzNiYmExYzAzMjMwZWRiMmJlZCIgc3R5bGU9IndpZHRoOiAxMDAuMCU7IGhlaWdodDogMTAwLjAlOyI+VGltYmVybGluZSBMb2RnZTwvZGl2PmApWzBdOwogICAgICAgICAgICBwb3B1cF82ZTY1ZTkyYjk5ZjM0NmJhYmExZDFjMDhiMDYzMTQwOC5zZXRDb250ZW50KGh0bWxfZDY0OGQyNzEyZTczNDczYmJhMWMwMzIzMGVkYjJiZWQpOwogICAgICAgIAoKICAgICAgICBtYXJrZXJfMGFlMGZkMjdlYTMyNDkxOTkzOGZmMWU2YTFlNDgyYTcuYmluZFBvcHVwKHBvcHVwXzZlNjVlOTJiOTlmMzQ2YmFiYTFkMWMwOGIwNjMxNDA4KQogICAgICAgIDsKCiAgICAgICAgCiAgICAKICAgIAogICAgICAgICAgICB2YXIgbWFya2VyX2Q4OWVmYzhhMjYwNTRhODE4ZDAyYmMwODVkNTlkM2JiID0gTC5tYXJrZXIoCiAgICAgICAgICAgICAgICBbNDUuMzMsIC0xMjEuNjgyM10sCiAgICAgICAgICAgICAgICB7fQogICAgICAgICAgICApLmFkZFRvKG1hcF83ODQ3OTY5OWVlY2Y0ZTA5OTNkOGFhZjA5MzZiZTkyYSk7CiAgICAgICAgCiAgICAKICAgICAgICAgICAgdmFyIGljb25fMmFjNmFiMTQzZjQ0NDY4M2EzMjNiYzFiOTJlMDgxNzcgPSBMLkF3ZXNvbWVNYXJrZXJzLmljb24oCiAgICAgICAgICAgICAgICB7ImV4dHJhQ2xhc3NlcyI6ICJmYS1yb3RhdGUtMCIsICJpY29uIjogImluZm8tc2lnbiIsICJpY29uQ29sb3IiOiAid2hpdGUiLCAibWFya2VyQ29sb3IiOiAicmVkIiwgInByZWZpeCI6ICJnbHlwaGljb24ifQogICAgICAgICAgICApOwogICAgICAgICAgICBtYXJrZXJfZDg5ZWZjOGEyNjA1NGE4MThkMDJiYzA4NWQ1OWQzYmIuc2V0SWNvbihpY29uXzJhYzZhYjE0M2Y0NDQ2ODNhMzIzYmMxYjkyZTA4MTc3KTsKICAgICAgICAKICAgIAogICAgICAgIHZhciBwb3B1cF9kMGQyMjFiNDhhNGQ0NmMzODJhYWY2MjUxMDFlZTBlOCA9IEwucG9wdXAoeyJtYXhXaWR0aCI6ICIxMDAlIn0pOwoKICAgICAgICAKICAgICAgICAgICAgdmFyIGh0bWxfZTg2ODVhMjJmZmQ2NGEzODk1NjBjNDFlY2VkZjc1ZjAgPSAkKGA8ZGl2IGlkPSJodG1sX2U4Njg1YTIyZmZkNjRhMzg5NTYwYzQxZWNlZGY3NWYwIiBzdHlsZT0id2lkdGg6IDEwMC4wJTsgaGVpZ2h0OiAxMDAuMCU7Ij5Tb21lIE90aGVyIExvY2F0aW9uPC9kaXY+YClbMF07CiAgICAgICAgICAgIHBvcHVwX2QwZDIyMWI0OGE0ZDQ2YzM4MmFhZjYyNTEwMWVlMGU4LnNldENvbnRlbnQoaHRtbF9lODY4NWEyMmZmZDY0YTM4OTU2MGM0MWVjZWRmNzVmMCk7CiAgICAgICAgCgogICAgICAgIG1hcmtlcl9kODllZmM4YTI2MDU0YTgxOGQwMmJjMDg1ZDU5ZDNiYi5iaW5kUG9wdXAocG9wdXBfZDBkMjIxYjQ4YTRkNDZjMzgyYWFmNjI1MTAxZWUwZTgpCiAgICAgICAgOwoKICAgICAgICAKICAgIAo8L3NjcmlwdD4= onload=\"this.contentDocument.open();this.contentDocument.write(atob(this.getAttribute('data-html')));this.contentDocument.close();\" allowfullscreen webkitallowfullscreen mozallowfullscreen></iframe></div></div>"
      ],
      "text/plain": [
       "<folium.folium.Map at 0x1351b2c6588>"
      ]
     },
     "execution_count": 14,
     "metadata": {},
     "output_type": "execute_result"
    }
   ],
   "source": [
    "import folium\n",
    "from src.mapping import geoMap\n",
    "\n",
    "m = geoMap((45.3288, -121.6625),12,'Stamen Terrain')\n",
    "\n",
    "folium.Marker(\n",
    "    location=[45.3288, -121.6625],\n",
    "    popup='Mt. Hood Meadows',\n",
    "    icon=folium.Icon(icon='cloud')\n",
    ").add_to(m)\n",
    "\n",
    "folium.Marker(\n",
    "    location=[45.3311, -121.7113],\n",
    "    popup='Timberline Lodge',\n",
    "    icon=folium.Icon(color='green')\n",
    ").add_to(m)\n",
    "\n",
    "folium.Marker(\n",
    "    location=[45.3300, -121.6823],\n",
    "    popup='Some Other Location',\n",
    "    icon=folium.Icon(color='red', icon='info-sign')\n",
    ").add_to(m)\n",
    "\n",
    "\n",
    "m"
   ]
  },
  {
   "cell_type": "code",
   "execution_count": 15,
   "metadata": {
    "scrolled": true
   },
   "outputs": [
    {
     "data": {
      "text/html": [
       "<div style=\"width:100%;\"><div style=\"position:relative;width:100%;height:0;padding-bottom:60%;\"><iframe src=\"about:blank\" style=\"position:absolute;width:100%;height:100%;left:0;top:0;border:none !important;\" data-html=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 onload=\"this.contentDocument.open();this.contentDocument.write(atob(this.getAttribute('data-html')));this.contentDocument.close();\" allowfullscreen webkitallowfullscreen mozallowfullscreen></iframe></div></div>"
      ],
      "text/plain": [
       "<folium.folium.Map at 0x1351b9f6e48>"
      ]
     },
     "execution_count": 15,
     "metadata": {},
     "output_type": "execute_result"
    }
   ],
   "source": [
    "from src.mapping import geoMap, mapMarkers\n",
    "\n",
    "\n",
    "coords = (45.523, -122.675)\n",
    "m = geoMap(coords)\n",
    "data = [[(45.525, -122.674),(45.522, -122.675),(45.541, -122.637)],[(45.545, -122.644),(45.532, -122.672),(45.517, -122.652)]]\n",
    "text = [[\"Casita\",\"Room\",\"Igloo\"],[\"Tent with amazing view\",\"RV\",\"Cabin\"]]\n",
    "colors = [\"green\",\"red\"]\n",
    "icon = [\"info-sign\",\"warning-sign\"]\n",
    "\n",
    "mapMarkers(m,data,text,colors,icon)\n",
    "m"
   ]
  },
  {
   "cell_type": "code",
   "execution_count": 16,
   "metadata": {},
   "outputs": [
    {
     "name": "stdout",
     "output_type": "stream",
     "text": [
      "Return a Map of a given location.\n",
      "       Parameters:\n",
      "           location : Coordinates to center the map. This need to be a tuple with element (x,y).\n",
      "           zoom     : An integer of how much zoom you want. Some maps have restrictions on this zoom. Optional.\n",
      "                      Default: 10.\n",
      "           view     : The map style you want to use. Optional.\n",
      "                      Free options: openstreetmap, cartodb, stamen terrain.\n",
      "                      Free options with zoom restrictions: mapbox control room , mapbox bright.\n",
      "                      Options with valid key: cloudmade, mapbox.\n",
      "                      Default: openstreetmaps.\n",
      "           key      : An API key, only needed if you are going to use cloudmade or mapbox.\n",
      "           \n",
      "       Example      : The following example will return you the area near downtown Portland.\n",
      "                          \n",
      "                          map = geoMap((45.523, -122.675))\n",
      "           \n",
      "       Output:      : folium.Map\n",
      "    \n",
      "\n",
      "Plugs multiple sets of markers into a map. Can change color and text of the pins.\n",
      "       Parameters\n",
      "           fmap        : A map instance from folium. Check out function geoMap for more info about maps by doing geoMap.__doc__.\n",
      "           data        : A list of lists or a list of DataFrames with coordinates to pin. Coordinates given as tuples (x,y).\n",
      "           text        : A list of lists or a list of DataFrames with text to lable each pin. \n",
      "           colors      : A list of colors to color each subset.\n",
      "                         Supported colors: \"red\", \"blue\", \"green\", \"purple\", \"orange\", \"darkred\", \"lightred\", \"beige\", \"darkblue\",\n",
      "                                           \"darkgreen\", \"cadetblue\", \"darkpurple\", \"white\", \"pink\", \"lightblue\", \"lightgreen\",\n",
      "                                           \"gray\", \"black\", \"lightgray\"\n",
      "           icons       : An icon to use in each subset. You can get a list of supported icons from \n",
      "                         https://fontawesome.com/icons?d=gallery     or     https://getbootstrap.com/docs/3.3/components/\n",
      "           fontAwesome : If you are going to use FontAwesome icons, set to True. Note: can't use both at the same time.\n",
      "    \n",
      "       Example         : The following example will add a few red pins and green pins around downtown Portland.\n",
      "                             \n",
      "                             map    = geoMap((45.523, -122.675))\n",
      "                             data   = [[(45.525, -122.674),(45.522, -122.675),(45.541, -122.637)],[(45.545, -122.644),(45.532, -122.672),(45.517, -122.652)]]\n",
      "                             text   = [[\"Casita\",\"Room\",\"Igloo\"],[\"Tent with amazing view\",\"RV\",\"Cabin\"]]\n",
      "                             colors = [\"green\",\"red\"]\n",
      "                             \n",
      "                             mapMarkers(map, data, text, colors, \"glyphicon-home\")\n",
      "                             \n",
      "                             map\n",
      "                             \n",
      "       Output          : None\n",
      "    \n"
     ]
    }
   ],
   "source": [
    "print(geoMap.__doc__)\n",
    "print()\n",
    "print(mapMarkers.__doc__)"
   ]
  },
  {
   "cell_type": "code",
   "execution_count": null,
   "metadata": {},
   "outputs": [],
   "source": []
  }
 ],
 "metadata": {
  "kernelspec": {
   "display_name": "Python 3",
   "language": "python",
   "name": "python3"
  },
  "language_info": {
   "codemirror_mode": {
    "name": "ipython",
    "version": 3
   },
   "file_extension": ".py",
   "mimetype": "text/x-python",
   "name": "python",
   "nbconvert_exporter": "python",
   "pygments_lexer": "ipython3",
   "version": "3.7.5"
  }
 },
 "nbformat": 4,
 "nbformat_minor": 2
}
