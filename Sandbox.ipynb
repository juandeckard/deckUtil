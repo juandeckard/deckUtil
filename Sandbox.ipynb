{
 "cells": [
  {
   "cell_type": "code",
   "execution_count": 1,
   "metadata": {},
   "outputs": [],
   "source": [
    "# Imports\n",
    "import pandas as pd\n",
    "from src.input import readExcel, readJSON"
   ]
  },
  {
   "cell_type": "markdown",
   "metadata": {},
   "source": [
    "## Input"
   ]
  },
  {
   "cell_type": "markdown",
   "metadata": {},
   "source": [
    "### Read Excel"
   ]
  },
  {
   "cell_type": "code",
   "execution_count": 2,
   "metadata": {},
   "outputs": [
    {
     "name": "stdout",
     "output_type": "stream",
     "text": [
      "         date  index        apn         structure          rental\n",
      "0  03/17/2020    135  5171031.0  unit (1 of many)  self contained\n",
      "1  03/17/2020     54  5153053.0    main structure  self contained\n",
      "2  03/17/2020    161  5162059.0    main structure  self contained\n",
      "3  03/17/2020     73  5153026.0  unit (1 of many)  self contained\n",
      "4  03/17/2020    176  5066035.0    main structure  self contained\n",
      "\n",
      "         date  index\n",
      "0  03/17/2020    135\n",
      "1  03/17/2020     54\n",
      "2  03/17/2020    161\n",
      "3  03/17/2020     73\n",
      "4  03/17/2020    176\n",
      "\n",
      "Exception: Can't find the file with name prismo.\n",
      "Exception: Sheet Min not found.\n",
      "Exception: header_row type error.\n",
      "Exception: columns parameter got an unexpected value with the followig error:\n",
      "Usecols do not match columns, columns expected but not found: ['indez'].\n",
      "\n",
      "Lets you read any excel files and returns a dataframe.\n",
      "       Parameters:\n",
      "            filename    : Name of the file, no termination.\n",
      "            sheet_name  : Name of the sheet to read.\n",
      "            header_row  : Row where the header is, starting at 0.\n",
      "            columns     : An array of strings, with the names of\n",
      "                          the headers you want to read.\n",
      "            location    : A string with the location of the file.\n",
      "                Example : \"./io/input/folders/to/your/file/\"\n",
      "                \n",
      "       Output: Dataframe \n",
      "    \n"
     ]
    }
   ],
   "source": [
    "# Full data taken from the function.\n",
    "dataframe_full = readExcel(\"pismo\",\"Main\",1,location = \"./io/input/examples/\")\n",
    "print(dataframe_full.head(5))\n",
    "print(\"\")\n",
    "\n",
    "# Partial data taken from the function\n",
    "dataframe_partial = readExcel(\"pismo\",\"Main\",1,columns = [\"index\",\"date\"],location = \"./io/input/examples/\")\n",
    "print(dataframe_partial.head(5))\n",
    "print(\"\")\n",
    "\n",
    "# Error Handling\n",
    "readExcel(\"prismo\",\"Main\",1,location = \"./io/input/examples/\")                             # Wrong filename    , Errno 1\n",
    "readExcel(\"pismo\",\"Min\",1,location = \"./io/input/examples/\")                               # Wrong sheetname   , Errno 2\n",
    "readExcel(\"prismo\",\"Main\",\"x\",location = \"./io/input/examples/\")                           # Wrong header type , Errno 3\n",
    "readExcel(\"pismo\",\"Main\",1,columns = [\"indez\",\"date\"],location = \"./io/input/examples/\")   # Typo at columns   , Errno 4\n",
    "print(\"\")\n",
    "\n",
    "print(readExcel.__doc__)"
   ]
  },
  {
   "cell_type": "markdown",
   "metadata": {},
   "source": [
    "### Read JSON"
   ]
  },
  {
   "cell_type": "code",
   "execution_count": 5,
   "metadata": {},
   "outputs": [
    {
     "name": "stdout",
     "output_type": "stream",
     "text": [
      "Example:  {'name': 'John', 'age': 30, 'cars': {'car1': 'Ford', 'car2': 'BMW', 'car3': 'Fiat'}}\n",
      "\n",
      "Can't find the file at ./io/input/examples/json.json\n",
      "Error:  1\n"
     ]
    }
   ],
   "source": [
    "# Reading a JSON file\n",
    "print(\"Example: \", readJSON(\"jason\",\"./io/input/examples/\"))\n",
    "print(\"\")\n",
    "\n",
    "# Error Handling\n",
    "print(\"Error: \", readJSON(\"json\",\"./io/input/examples/\"))"
   ]
  },
  {
   "cell_type": "code",
   "execution_count": null,
   "metadata": {},
   "outputs": [],
   "source": []
  }
 ],
 "metadata": {
  "kernelspec": {
   "display_name": "Python 3",
   "language": "python",
   "name": "python3"
  },
  "language_info": {
   "codemirror_mode": {
    "name": "ipython",
    "version": 3
   },
   "file_extension": ".py",
   "mimetype": "text/x-python",
   "name": "python",
   "nbconvert_exporter": "python",
   "pygments_lexer": "ipython3",
   "version": "3.7.4"
  }
 },
 "nbformat": 4,
 "nbformat_minor": 2
}
