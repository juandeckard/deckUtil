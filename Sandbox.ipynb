{
 "cells": [
  {
   "cell_type": "code",
   "execution_count": 1,
   "metadata": {},
   "outputs": [],
   "source": [
    "# Imports\n",
    "import pandas as pd\n",
    "from src.input import readExcel, readJSON, readCSV"
   ]
  },
  {
   "cell_type": "markdown",
   "metadata": {},
   "source": [
    "## Input"
   ]
  },
  {
   "cell_type": "markdown",
   "metadata": {},
   "source": [
    "### Read Excel"
   ]
  },
  {
   "cell_type": "code",
   "execution_count": 2,
   "metadata": {},
   "outputs": [
    {
     "name": "stdout",
     "output_type": "stream",
     "text": [
      "         date  index        apn         structure          rental\n",
      "0  03/17/2020    135  5171031.0  unit (1 of many)  self contained\n",
      "1  03/17/2020     54  5153053.0    main structure  self contained\n",
      "2  03/17/2020    161  5162059.0    main structure  self contained\n",
      "3  03/17/2020     73  5153026.0  unit (1 of many)  self contained\n",
      "4  03/17/2020    176  5066035.0    main structure  self contained\n",
      "\n",
      "         date  index\n",
      "0  03/17/2020    135\n",
      "1  03/17/2020     54\n",
      "2  03/17/2020    161\n",
      "3  03/17/2020     73\n",
      "4  03/17/2020    176\n",
      "\n",
      "Exception: Can't find the file with name ./io/input/examples/prismo.xlsx.\n",
      "Exception: Sheet Min not found.\n",
      "Exception: header_row type error.\n",
      "Exception: columns parameter got an unexpected value with the followig error:\n",
      "Usecols do not match columns, columns expected but not found: ['indez'].\n",
      "\n",
      "Lets you read any excel files and returns a dataframe.\n",
      "       Parameters:\n",
      "            filename    : Name of the file, no termination.\n",
      "            sheet_name  : Name of the sheet to read.\n",
      "            header_row  : Row where the header is, starting at 0.\n",
      "            columns     : An array of strings, with the names of\n",
      "                          the headers you want to read.\n",
      "            location    : A string with the location of the file.\n",
      "                Example : \"./io/input/folders/to/your/file/\"\n",
      "                \n",
      "       Output: Dataframe \n",
      "    \n"
     ]
    }
   ],
   "source": [
    "# Full data taken from the function.\n",
    "dataframe_full = readExcel(\"pismo\",\"Main\",1,location = \"./io/input/examples/\")\n",
    "print(dataframe_full.head(5))\n",
    "print(\"\")\n",
    "\n",
    "# Partial data taken from the function\n",
    "dataframe_partial = readExcel(\"pismo\",\"Main\",1,columns = [\"index\",\"date\"],location = \"./io/input/examples/\")\n",
    "print(dataframe_partial.head(5))\n",
    "print(\"\")\n",
    "\n",
    "# Error Handling\n",
    "readExcel(\"prismo\",\"Main\",1,location = \"./io/input/examples/\")                             # Wrong filename    , Errno 1\n",
    "readExcel(\"pismo\",\"Min\",1,location = \"./io/input/examples/\")                               # Wrong sheetname   , Errno 2\n",
    "readExcel(\"prismo\",\"Main\",\"x\",location = \"./io/input/examples/\")                           # Wrong header type , Errno 3\n",
    "readExcel(\"pismo\",\"Main\",1,columns = [\"indez\",\"date\"],location = \"./io/input/examples/\")   # Typo at columns   , Errno 4\n",
    "print(\"\")\n",
    "\n",
    "# Documentation\n",
    "print(readExcel.__doc__)"
   ]
  },
  {
   "cell_type": "markdown",
   "metadata": {},
   "source": [
    "### Read CSV"
   ]
  },
  {
   "cell_type": "code",
   "execution_count": 3,
   "metadata": {},
   "outputs": [
    {
     "name": "stdout",
     "output_type": "stream",
     "text": [
      "   rooms  bathrooms              apn active\n",
      "0      2          2  062-345-324-135    yes\n",
      "1      3          2  064-953-456-554     no\n",
      "2      1          2  063-445-751-123    yes\n",
      "3      5          7  061-635-552-412    yes\n",
      "   rooms  bathrooms\n",
      "0      2          2\n",
      "1      3          2\n",
      "2      1          2\n",
      "3      5          7\n",
      "\n",
      "Exception: Can't find the file with name ./io/input/examples/csvi.csv.\n",
      "Exception: header type error.\n",
      "Exception: columns parameter got an unexpected value with the followig error:\n",
      "Usecols do not match columns, columns expected but not found: ['address'].\n",
      "\n",
      "Lets you read any CSV file and returns a dataframe.\n",
      "       Parameters:\n",
      "           filename    : Name of the file, no termination.\n",
      "           header      : Row where the header is, starting at 0.\n",
      "           columns     : An array of strings, with the names of\n",
      "                         the headers you want to read.\n",
      "           location    : Location of the file\n",
      "               Example : \"./io/input/folders/to/your/file/\"\n",
      "       \n",
      "       Output: Dataframe\n",
      "    \n"
     ]
    }
   ],
   "source": [
    "# Reading CSV files.\n",
    "print(readCSV(\"csv\", location = \"./io/input/examples/\"))\n",
    "#print(readCSV(\"csv\", location = \"./io/input/examples/\").columns)\n",
    "print(readCSV(\"csv\", location  = \"./io/input/examples/\", columns = [\"rooms\", \"bathrooms\"]))\n",
    "print(\"\")\n",
    "\n",
    "# Error Handling\n",
    "readCSV(\"csvi\", location = \"./io/input/examples/\")\n",
    "readCSV(\"csv\", header    = \"x\", location = \"./io/input/examples/\")\n",
    "readCSV(\"csv\", location  = \"./io/input/examples/\", columns = [\"address\"])\n",
    "print(\"\")\n",
    "\n",
    "# Documentation\n",
    "print(readCSV.__doc__)"
   ]
  },
  {
   "cell_type": "markdown",
   "metadata": {},
   "source": [
    "### Read JSON"
   ]
  },
  {
   "cell_type": "code",
   "execution_count": 4,
   "metadata": {},
   "outputs": [
    {
     "name": "stdout",
     "output_type": "stream",
     "text": [
      "Example: {'name': 'John', 'age': 30, 'cars': {'car1': 'Ford', 'car2': 'BMW', 'car3': 'Fiat'}}\n",
      "\n",
      "Exception: Can't find the file at ./io/input/examples/json.json\n",
      "\n",
      "Lets you read any json files and returns a python dict. \n",
      "       Parameters:\n",
      "           filename    : Name of the file, no termination.\n",
      "           location    : Location of the file\n",
      "               Example : \"./io/input/folders/to/your/file/\"\n",
      "       \n",
      "       Output: dict\n",
      "    \n"
     ]
    }
   ],
   "source": [
    "# Reading a JSON file\n",
    "print(\"Example:\", readJSON(\"jason\",\"./io/input/examples/\"))\n",
    "print(\"\")\n",
    "\n",
    "# Error Handling\n",
    "readJSON(\"json\",\"./io/input/examples/\")\n",
    "print(\"\")\n",
    "\n",
    "# Documentation\n",
    "print(readJSON.__doc__)"
   ]
  },
  {
   "cell_type": "markdown",
   "metadata": {},
   "source": [
    "## Time"
   ]
  },
  {
   "cell_type": "markdown",
   "metadata": {},
   "source": [
    "### Date Manipulation"
   ]
  },
  {
   "cell_type": "code",
   "execution_count": 5,
   "metadata": {},
   "outputs": [
    {
     "name": "stdout",
     "output_type": "stream",
     "text": [
      "Example: 03/25/2020\n",
      "Returns today as a string with an optional parameter called format.\n",
      "       Parameters:\n",
      "           format: The way you want to display the data, \n",
      "           as default the same format as datetime. Optional.\n",
      "                   As a default, it starts with a %m/%d/%Y format.\n",
      "                   \n",
      "       Output: String\n",
      "    \n",
      "\n",
      "Example: 03/30/2020\n",
      "Returns next day by full nume.\n",
      "       Example: nextDay(\"Friday\")\n",
      "       Parameters:\n",
      "           day: Day of the week as a string. For example, friday. The function is not case sensitive.\n",
      "           format: The way you want to display the data, \n",
      "           as default the same format as datetime. Optional.\n",
      "                   As a default, it starts with a %m/%d/%Y format.\n",
      "       \n",
      "       Output: String\n",
      "    \n",
      "\n",
      "Example: 03/20/2020\n",
      "Returns previous day by full nume.\n",
      "       Example: prevDay(\"Friday\")\n",
      "       Parameters :\n",
      "           day    : Day of the week as a string. For example, friday. The function is not case sensitive.\n",
      "           format : The way you want to display the data, \n",
      "           as default the same format as datetime. Optional.\n",
      "                    As a default, it starts with a %m/%d/%Y format.\n",
      "       \n",
      "       Output: String\n",
      "    \n",
      "\n",
      "Example: 11/26/2012\n",
      "Example: 11/26/2012\n",
      "Adds time period to a given date.\n",
      "       Parameters:\n",
      "           date   : Date to transform. Can be a String or a Date.\n",
      "           days   : Days to be added. Optional.\n",
      "           weeks  : Weeks to be added. Optional.\n",
      "           months : Months to be added, if you start at the 25th of March and add 3 months you will\n",
      "                    end up in the 25th of June. Optional.\n",
      "           years  : Years to be added. Optional.\n",
      "           format : The way you want to display the data, \n",
      "           as default the same format as datetime. Optional.\n",
      "                    As a default, it starts with a %m/%d/%Y format.\n",
      "       \n",
      "       Output: String\n",
      "    \n",
      "\n",
      "Example: 02/07/1987\n",
      "Example: 02/07/1987\n",
      "Subtracts time period to a given date.\n",
      "       Parameters:\n",
      "           date   : Date to transform. Can be a String or a Date.\n",
      "           days   : Days to be subtracted. Optional.\n",
      "           weeks  : Weeks to be subtracted. Optional.\n",
      "           months : Months to be subtracted, \n",
      "           if you start at the 25th of March and subtract 3 months you will\n",
      "                    end up in the 25th of December. Optional.\n",
      "           years  : Years to be subtracted. Optional.\n",
      "           format : The way you want to display the data, \n",
      "           as default the same format as datetime. Optional.\n",
      "                    As a default, it starts with a %m/%d/%Y format.\n",
      "       \n",
      "       Output: String\n",
      "    \n",
      "\n"
     ]
    }
   ],
   "source": [
    "from src.time import *\n",
    "\n",
    "# Get todays date\n",
    "print(\"Example:\", today())\n",
    "print(today.__doc__)\n",
    "print()\n",
    "\n",
    "# Get next day\n",
    "print(\"Example:\", nextDay(\"monDay\"))\n",
    "print(nextDay.__doc__)\n",
    "print()\n",
    "\n",
    "# Get prev day\n",
    "print(\"Example:\", prevDay(\"FrIdAy\"))\n",
    "print(prevDay.__doc__)\n",
    "print()\n",
    "\n",
    "# Add time\n",
    "print(\"Example:\", addTime(\"01/01/2000\",days = 4, weeks = 3, months = 10, years = 12))\n",
    "print(\"Example:\", addTime(strToDate(\"01/01/2000\"),days = 4, weeks = 3, months = 10, years = 12))\n",
    "print(addTime.__doc__)\n",
    "print()\n",
    "\n",
    "# Subtract time\n",
    "print(\"Example:\", subTime(\"01/01/2000\",days = 4, weeks = 3, months = 10, years = 12))\n",
    "print(\"Example:\", subTime(strToDate(\"01/01/2000\"),days = 4, weeks = 3, months = 10, years = 12))\n",
    "print(subTime.__doc__)\n",
    "print()"
   ]
  },
  {
   "cell_type": "markdown",
   "metadata": {},
   "source": [
    "### Type Transformation"
   ]
  },
  {
   "cell_type": "code",
   "execution_count": 6,
   "metadata": {},
   "outputs": [
    {
     "name": "stdout",
     "output_type": "stream",
     "text": [
      "Example: <class 'str'> to <class 'datetime.datetime'>\n",
      "Converts a String into a Date.\n",
      "       Parameters:\n",
      "           date: A date as a string.\n",
      "           format: The way you want to display the data,\n",
      "           as default the same format as datetime. Optional.\n",
      "                   As a default, it starts with a %m/%d/%Y format.\n",
      "                   \n",
      "       Output: Date\n",
      "    \n",
      "\n",
      "Example: <class 'datetime.datetime'> to <class 'str'>\n",
      "Converts a Date into a String.\n",
      "       Parameters:\n",
      "           date: A date as a Date.\n",
      "           format: The way you want to display the data, \n",
      "           as default the same format as datetime. Optional.\n",
      "                   As a default, it starts with a %m/%d/%Y format.\n",
      "                   \n",
      "       Output: String\n",
      "    \n",
      "\n"
     ]
    }
   ],
   "source": [
    "# Converting String to Datetime\n",
    "print(\"Example:\", type(\"01/01/2000\"),\"to\",type(strToDate(\"01/01/2000\")))\n",
    "print(strToDate.__doc__)\n",
    "print()\n",
    "\n",
    "print(\"Example:\", type(datetime.now()),\"to\",type(dateToStr(datetime.now())))\n",
    "print(dateToStr.__doc__)\n",
    "print()"
   ]
  },
  {
   "cell_type": "code",
   "execution_count": null,
   "metadata": {},
   "outputs": [],
   "source": []
  }
 ],
 "metadata": {
  "kernelspec": {
   "display_name": "Python 3",
   "language": "python",
   "name": "python3"
  },
  "language_info": {
   "codemirror_mode": {
    "name": "ipython",
    "version": 3
   },
   "file_extension": ".py",
   "mimetype": "text/x-python",
   "name": "python",
   "nbconvert_exporter": "python",
   "pygments_lexer": "ipython3",
   "version": "3.7.4"
  }
 },
 "nbformat": 4,
 "nbformat_minor": 2
}
